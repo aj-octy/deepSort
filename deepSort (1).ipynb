{
  "nbformat": 4,
  "nbformat_minor": 0,
  "metadata": {
    "colab": {
      "provenance": [],
      "gpuType": "T4"
    },
    "kernelspec": {
      "name": "python3",
      "display_name": "Python 3"
    },
    "language_info": {
      "name": "python"
    },
    "accelerator": "GPU"
  },
  "cells": [
    {
      "cell_type": "code",
      "source": [
        "%cd /content/drive/MyDrive/Classes/Obj_trac_deepSort/DeepSort"
      ],
      "metadata": {
        "colab": {
          "base_uri": "https://localhost:8080/"
        },
        "id": "HF7pGtlx7YtE",
        "outputId": "aa45fdcf-ec1b-4e20-d8a7-4e47351b22c6"
      },
      "execution_count": null,
      "outputs": [
        {
          "output_type": "stream",
          "name": "stdout",
          "text": [
            "/content/drive/MyDrive/Classes/Obj_trac_deepSort/DeepSort\n"
          ]
        }
      ]
    },
    {
      "cell_type": "code",
      "source": [
        "!pwd"
      ],
      "metadata": {
        "colab": {
          "base_uri": "https://localhost:8080/"
        },
        "id": "79khEYyweaGS",
        "outputId": "219848dd-1257-4f80-a66a-803efc76ad4e"
      },
      "execution_count": null,
      "outputs": [
        {
          "output_type": "stream",
          "name": "stdout",
          "text": [
            "/content/drive/MyDrive/Classes/Obj_trac_deepSort/DeepSort\n"
          ]
        }
      ]
    },
    {
      "cell_type": "code",
      "execution_count": null,
      "metadata": {
        "colab": {
          "base_uri": "https://localhost:8080/"
        },
        "id": "3UJhVsZf5cod",
        "outputId": "45e5c202-ee5f-4639-e064-56bb27ef10e7"
      },
      "outputs": [
        {
          "output_type": "stream",
          "name": "stdout",
          "text": [
            "Cloning into 'deep_sort_pytorch'...\n",
            "remote: Enumerating objects: 732, done.\u001b[K\n",
            "remote: Counting objects: 100% (15/15), done.\u001b[K\n",
            "remote: Compressing objects: 100% (15/15), done.\u001b[K\n",
            "remote: Total 732 (delta 8), reused 5 (delta 0), pack-reused 717\u001b[K\n",
            "Receiving objects: 100% (732/732), 23.72 MiB | 14.41 MiB/s, done.\n",
            "Resolving deltas: 100% (355/355), done.\n"
          ]
        }
      ],
      "source": [
        "!git clone https://github.com/ZQPei/deep_sort_pytorch.git"
      ]
    },
    {
      "cell_type": "code",
      "source": [
        "%cd deep_sort_pytorch/"
      ],
      "metadata": {
        "colab": {
          "base_uri": "https://localhost:8080/"
        },
        "id": "UVqVjIDP5ur8",
        "outputId": "57e00e14-bf01-4b67-9763-3849c9db7af8"
      },
      "execution_count": null,
      "outputs": [
        {
          "output_type": "stream",
          "name": "stdout",
          "text": [
            "/content/drive/MyDrive/Classes/Obj_trac_deepSort/DeepSort/deep_sort_pytorch\n"
          ]
        }
      ]
    },
    {
      "cell_type": "code",
      "source": [
        "!pip install -r requirements.txt"
      ],
      "metadata": {
        "colab": {
          "base_uri": "https://localhost:8080/"
        },
        "id": "eLLcjGyw59Oa",
        "outputId": "4df3c06d-ba12-475f-b48f-8bd072259c69"
      },
      "execution_count": null,
      "outputs": [
        {
          "output_type": "stream",
          "name": "stdout",
          "text": [
            "Collecting atomicwrites==1.3.0 (from -r requirements.txt (line 1))\n",
            "  Downloading atomicwrites-1.3.0-py2.py3-none-any.whl (5.9 kB)\n",
            "Collecting attrs==19.3.0 (from -r requirements.txt (line 2))\n",
            "  Downloading attrs-19.3.0-py2.py3-none-any.whl (39 kB)\n",
            "Collecting colorama==0.4.3 (from -r requirements.txt (line 3))\n",
            "  Downloading colorama-0.4.3-py2.py3-none-any.whl (15 kB)\n",
            "Collecting easydict==1.9 (from -r requirements.txt (line 4))\n",
            "  Downloading easydict-1.9.tar.gz (6.4 kB)\n",
            "  Preparing metadata (setup.py) ... \u001b[?25l\u001b[?25hdone\n",
            "Collecting entrypoints==0.3 (from -r requirements.txt (line 5))\n",
            "  Downloading entrypoints-0.3-py2.py3-none-any.whl (11 kB)\n",
            "Collecting et-xmlfile==1.0.1 (from -r requirements.txt (line 6))\n",
            "  Downloading et_xmlfile-1.0.1.tar.gz (8.4 kB)\n",
            "  Preparing metadata (setup.py) ... \u001b[?25l\u001b[?25hdone\n",
            "Collecting flake8==3.7.9 (from -r requirements.txt (line 7))\n",
            "  Downloading flake8-3.7.9-py2.py3-none-any.whl (69 kB)\n",
            "\u001b[2K     \u001b[90m━━━━━━━━━━━━━━━━━━━━━━━━━━━━━━━━━━━━━━━━\u001b[0m \u001b[32m69.9/69.9 kB\u001b[0m \u001b[31m8.8 MB/s\u001b[0m eta \u001b[36m0:00:00\u001b[0m\n",
            "\u001b[?25hCollecting flake8-import-order==0.18.1 (from -r requirements.txt (line 8))\n",
            "  Downloading flake8_import_order-0.18.1-py2.py3-none-any.whl (15 kB)\n",
            "Collecting importlib-metadata==1.6.0 (from -r requirements.txt (line 9))\n",
            "  Downloading importlib_metadata-1.6.0-py2.py3-none-any.whl (30 kB)\n",
            "Collecting jdcal==1.4.1 (from -r requirements.txt (line 10))\n",
            "  Downloading jdcal-1.4.1-py2.py3-none-any.whl (9.5 kB)\n",
            "Collecting joblib==0.14.1 (from -r requirements.txt (line 11))\n",
            "  Downloading joblib-0.14.1-py2.py3-none-any.whl (294 kB)\n",
            "\u001b[2K     \u001b[90m━━━━━━━━━━━━━━━━━━━━━━━━━━━━━━━━━━━━━━━━\u001b[0m \u001b[32m294.9/294.9 kB\u001b[0m \u001b[31m36.8 MB/s\u001b[0m eta \u001b[36m0:00:00\u001b[0m\n",
            "\u001b[?25hCollecting numpy==1.18.2 (from -r requirements.txt (line 12))\n",
            "  Downloading numpy-1.18.2.zip (5.4 MB)\n",
            "\u001b[2K     \u001b[90m━━━━━━━━━━━━━━━━━━━━━━━━━━━━━━━━━━━━━━━━\u001b[0m \u001b[32m5.4/5.4 MB\u001b[0m \u001b[31m12.2 MB/s\u001b[0m eta \u001b[36m0:00:00\u001b[0m\n",
            "\u001b[?25h  Installing build dependencies ... \u001b[?25l\u001b[?25hdone\n",
            "  Getting requirements to build wheel ... \u001b[?25l\u001b[?25hdone\n",
            "  \u001b[1;31merror\u001b[0m: \u001b[1msubprocess-exited-with-error\u001b[0m\n",
            "  \n",
            "  \u001b[31m×\u001b[0m \u001b[32mPreparing metadata \u001b[0m\u001b[1;32m(\u001b[0m\u001b[32mpyproject.toml\u001b[0m\u001b[1;32m)\u001b[0m did not run successfully.\n",
            "  \u001b[31m│\u001b[0m exit code: \u001b[1;36m1\u001b[0m\n",
            "  \u001b[31m╰─>\u001b[0m See above for output.\n",
            "  \n",
            "  \u001b[1;35mnote\u001b[0m: This error originates from a subprocess, and is likely not a problem with pip.\n",
            "  Preparing metadata (pyproject.toml) ... \u001b[?25l\u001b[?25herror\n",
            "\u001b[1;31merror\u001b[0m: \u001b[1mmetadata-generation-failed\u001b[0m\n",
            "\n",
            "\u001b[31m×\u001b[0m Encountered error while generating package metadata.\n",
            "\u001b[31m╰─>\u001b[0m See above for output.\n",
            "\n",
            "\u001b[1;35mnote\u001b[0m: This is an issue with the package mentioned above, not pip.\n",
            "\u001b[1;36mhint\u001b[0m: See above for details.\n"
          ]
        }
      ]
    },
    {
      "cell_type": "code",
      "source": [
        "pwd"
      ],
      "metadata": {
        "colab": {
          "base_uri": "https://localhost:8080/",
          "height": 35
        },
        "id": "a_ylXzDK8IWJ",
        "outputId": "86794be6-1b36-48c7-fb56-c7fca4e18960"
      },
      "execution_count": null,
      "outputs": [
        {
          "output_type": "execute_result",
          "data": {
            "text/plain": [
              "'/content/drive/MyDrive/Classes/Obj_trac_deepSort/DeepSort/deep_sort_pytorch'"
            ],
            "application/vnd.google.colaboratory.intrinsic+json": {
              "type": "string"
            }
          },
          "metadata": {},
          "execution_count": 6
        }
      ]
    },
    {
      "cell_type": "code",
      "source": [
        "%cd /content/drive/MyDrive/Classes/Obj_trac_deepSort/DeepSort/deep_sort_pytorch/deep_sort/deep"
      ],
      "metadata": {
        "colab": {
          "base_uri": "https://localhost:8080/"
        },
        "id": "B3WFOYFU97rO",
        "outputId": "c045254d-e557-447a-c9c9-b9d092c85047"
      },
      "execution_count": null,
      "outputs": [
        {
          "output_type": "stream",
          "name": "stdout",
          "text": [
            "/content/drive/MyDrive/Classes/Obj_trac_deepSort/DeepSort/deep_sort_pytorch/deep_sort/deep\n"
          ]
        }
      ]
    },
    {
      "cell_type": "code",
      "source": [
        "%cp -r /content/drive/MyDrive/Classes/Obj_trac_deepSort/DeepSort/data /content/drive/MyDrive/Classes/Obj_trac_deepSort/DeepSort/deep_sort_pytorch/deep_sort/deep/"
      ],
      "metadata": {
        "id": "DPqiUwjI6PQN"
      },
      "execution_count": null,
      "outputs": []
    },
    {
      "cell_type": "code",
      "source": [
        "!python train.py"
      ],
      "metadata": {
        "colab": {
          "base_uri": "https://localhost:8080/"
        },
        "id": "BsRUQMOW-5II",
        "outputId": "bab2472b-0efb-4bfd-aa09-6610cbba9e49"
      },
      "execution_count": null,
      "outputs": [
        {
          "output_type": "stream",
          "name": "stdout",
          "text": [
            "\n",
            "Epoch : 1\n",
            "Testing ...\n",
            "[progress:100.0%]time:0.21s Loss:0.00000 Correct:22/22 Acc:100.000%\n",
            "Saving parameters to checkpoint/ckpt.t7\n",
            "\n",
            "Epoch : 2\n",
            "Testing ...\n",
            "[progress:100.0%]time:0.05s Loss:0.00000 Correct:22/22 Acc:100.000%\n",
            "\n",
            "Epoch : 3\n",
            "Testing ...\n",
            "[progress:100.0%]time:0.05s Loss:0.00000 Correct:22/22 Acc:100.000%\n",
            "\n",
            "Epoch : 4\n",
            "Testing ...\n",
            "[progress:100.0%]time:0.05s Loss:0.00000 Correct:22/22 Acc:100.000%\n",
            "\n",
            "Epoch : 5\n",
            "Testing ...\n",
            "[progress:100.0%]time:0.05s Loss:0.00000 Correct:22/22 Acc:100.000%\n",
            "\n",
            "Epoch : 6\n",
            "Testing ...\n",
            "[progress:100.0%]time:0.05s Loss:0.00000 Correct:22/22 Acc:100.000%\n",
            "\n",
            "Epoch : 7\n",
            "Testing ...\n",
            "[progress:100.0%]time:0.05s Loss:0.00000 Correct:22/22 Acc:100.000%\n",
            "\n",
            "Epoch : 8\n",
            "Testing ...\n",
            "[progress:100.0%]time:0.05s Loss:0.00000 Correct:22/22 Acc:100.000%\n",
            "\n",
            "Epoch : 9\n",
            "Testing ...\n",
            "[progress:100.0%]time:0.05s Loss:0.00000 Correct:22/22 Acc:100.000%\n",
            "\n",
            "Epoch : 10\n",
            "Testing ...\n",
            "[progress:100.0%]time:0.05s Loss:0.00000 Correct:22/22 Acc:100.000%\n",
            "\n",
            "Epoch : 11\n",
            "Testing ...\n",
            "[progress:100.0%]time:0.05s Loss:0.00000 Correct:22/22 Acc:100.000%\n",
            "\n",
            "Epoch : 12\n",
            "Testing ...\n",
            "[progress:100.0%]time:0.05s Loss:0.00000 Correct:22/22 Acc:100.000%\n",
            "\n",
            "Epoch : 13\n",
            "Testing ...\n",
            "[progress:100.0%]time:0.05s Loss:0.00000 Correct:22/22 Acc:100.000%\n",
            "\n",
            "Epoch : 14\n",
            "Testing ...\n",
            "[progress:100.0%]time:0.05s Loss:0.00000 Correct:22/22 Acc:100.000%\n",
            "\n",
            "Epoch : 15\n",
            "Testing ...\n",
            "[progress:100.0%]time:0.05s Loss:0.00000 Correct:22/22 Acc:100.000%\n",
            "\n",
            "Epoch : 16\n",
            "Testing ...\n",
            "[progress:100.0%]time:0.05s Loss:0.00000 Correct:22/22 Acc:100.000%\n",
            "\n",
            "Epoch : 17\n",
            "Testing ...\n",
            "[progress:100.0%]time:0.05s Loss:0.00000 Correct:22/22 Acc:100.000%\n",
            "\n",
            "Epoch : 18\n",
            "Testing ...\n",
            "[progress:100.0%]time:0.05s Loss:0.00000 Correct:22/22 Acc:100.000%\n",
            "\n",
            "Epoch : 19\n",
            "Testing ...\n",
            "[progress:100.0%]time:0.05s Loss:0.00000 Correct:22/22 Acc:100.000%\n",
            "\n",
            "Epoch : 20\n",
            "Testing ...\n",
            "[progress:100.0%]time:0.05s Loss:0.00000 Correct:22/22 Acc:100.000%\n",
            "Learning rate adjusted to 0.010000000000000002\n",
            "\n",
            "Epoch : 21\n",
            "Testing ...\n",
            "[progress:100.0%]time:0.05s Loss:0.00000 Correct:22/22 Acc:100.000%\n",
            "\n",
            "Epoch : 22\n",
            "Testing ...\n",
            "[progress:100.0%]time:0.05s Loss:0.00000 Correct:22/22 Acc:100.000%\n",
            "\n",
            "Epoch : 23\n",
            "Testing ...\n",
            "[progress:100.0%]time:0.06s Loss:0.00000 Correct:22/22 Acc:100.000%\n",
            "\n",
            "Epoch : 24\n",
            "Testing ...\n",
            "[progress:100.0%]time:0.05s Loss:0.00000 Correct:22/22 Acc:100.000%\n",
            "\n",
            "Epoch : 25\n",
            "Testing ...\n",
            "[progress:100.0%]time:0.05s Loss:0.00000 Correct:22/22 Acc:100.000%\n",
            "\n",
            "Epoch : 26\n",
            "Testing ...\n",
            "[progress:100.0%]time:0.05s Loss:0.00000 Correct:22/22 Acc:100.000%\n",
            "\n",
            "Epoch : 27\n",
            "Testing ...\n",
            "[progress:100.0%]time:0.06s Loss:0.00000 Correct:22/22 Acc:100.000%\n",
            "\n",
            "Epoch : 28\n",
            "Testing ...\n",
            "[progress:100.0%]time:0.05s Loss:0.00000 Correct:22/22 Acc:100.000%\n",
            "\n",
            "Epoch : 29\n",
            "Testing ...\n",
            "[progress:100.0%]time:0.05s Loss:0.00000 Correct:22/22 Acc:100.000%\n",
            "\n",
            "Epoch : 30\n",
            "Testing ...\n",
            "[progress:100.0%]time:0.05s Loss:0.00000 Correct:22/22 Acc:100.000%\n",
            "\n",
            "Epoch : 31\n",
            "Testing ...\n",
            "[progress:100.0%]time:0.05s Loss:0.00000 Correct:22/22 Acc:100.000%\n",
            "\n",
            "Epoch : 32\n",
            "Testing ...\n",
            "[progress:100.0%]time:0.05s Loss:0.00000 Correct:22/22 Acc:100.000%\n",
            "\n",
            "Epoch : 33\n",
            "Testing ...\n",
            "[progress:100.0%]time:0.06s Loss:0.00000 Correct:22/22 Acc:100.000%\n",
            "\n",
            "Epoch : 34\n",
            "Testing ...\n",
            "[progress:100.0%]time:0.06s Loss:0.00000 Correct:22/22 Acc:100.000%\n",
            "\n",
            "Epoch : 35\n",
            "Testing ...\n",
            "[progress:100.0%]time:0.06s Loss:0.00000 Correct:22/22 Acc:100.000%\n",
            "\n",
            "Epoch : 36\n",
            "Testing ...\n",
            "[progress:100.0%]time:0.06s Loss:0.00000 Correct:22/22 Acc:100.000%\n",
            "\n",
            "Epoch : 37\n",
            "Testing ...\n",
            "[progress:100.0%]time:0.05s Loss:0.00000 Correct:22/22 Acc:100.000%\n",
            "\n",
            "Epoch : 38\n",
            "Testing ...\n",
            "[progress:100.0%]time:0.06s Loss:0.00000 Correct:22/22 Acc:100.000%\n",
            "\n",
            "Epoch : 39\n",
            "Testing ...\n",
            "[progress:100.0%]time:0.06s Loss:0.00000 Correct:22/22 Acc:100.000%\n",
            "\n",
            "Epoch : 40\n",
            "Testing ...\n",
            "[progress:100.0%]time:0.05s Loss:0.00000 Correct:22/22 Acc:100.000%\n",
            "Learning rate adjusted to 0.0010000000000000002\n"
          ]
        }
      ]
    },
    {
      "cell_type": "code",
      "source": [],
      "metadata": {
        "id": "hzF4Ct1e_HqL"
      },
      "execution_count": null,
      "outputs": []
    }
  ]
}